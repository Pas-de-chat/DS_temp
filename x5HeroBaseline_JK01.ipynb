{
  "nbformat": 4,
  "nbformat_minor": 0,
  "metadata": {
    "colab": {
      "name": "x5HeroBaseline.ipynb",
      "provenance": [],
      "collapsed_sections": [],
      "toc_visible": true,
      "include_colab_link": true
    },
    "kernelspec": {
      "name": "python3",
      "display_name": "Python 3"
    }
  },
  "cells": [
    {
      "cell_type": "markdown",
      "metadata": {
        "id": "view-in-github",
        "colab_type": "text"
      },
      "source": [
        "<a href=\"https://colab.research.google.com/github/Pas-de-chat/DS_temp/blob/master/x5HeroBaseline_JK01.ipynb\" target=\"_parent\"><img src=\"https://colab.research.google.com/assets/colab-badge.svg\" alt=\"Open In Colab\"/></a>"
      ]
    },
    {
      "cell_type": "code",
      "metadata": {
        "id": "DVu8Hi7DA85w",
        "colab_type": "code",
        "colab": {}
      },
      "source": [
        "!pip install -U -q PyDrive"
      ],
      "execution_count": 0,
      "outputs": []
    },
    {
      "cell_type": "code",
      "metadata": {
        "id": "OHUyyyA6z9W4",
        "colab_type": "code",
        "outputId": "8a1f76d1-43c0-48c0-85d0-b3544867ef0a",
        "colab": {
          "base_uri": "https://localhost:8080/",
          "height": 34
        }
      },
      "source": [
        "from google.colab import drive\n",
        "drive.mount('/content/drive')"
      ],
      "execution_count": 0,
      "outputs": [
        {
          "output_type": "stream",
          "text": [
            "Drive already mounted at /content/drive; to attempt to forcibly remount, call drive.mount(\"/content/drive\", force_remount=True).\n"
          ],
          "name": "stdout"
        }
      ]
    },
    {
      "cell_type": "code",
      "metadata": {
        "id": "KcHXdTDzEB-c",
        "colab_type": "code",
        "colab": {}
      },
      "source": [
        "from pydrive.auth import GoogleAuth\n",
        "from pydrive.drive import GoogleDrive\n",
        "from google.colab import auth\n",
        "from google.colab import drive as drive_loc\n",
        "from oauth2client.client import GoogleCredentials\n",
        "\n",
        "import pandas\n",
        "import datetime\n",
        "import numpy as np\n",
        "from sklearn.base import clone\n",
        "from sklearn.model_selection import train_test_split\n",
        "from sklearn.ensemble import GradientBoostingClassifier"
      ],
      "execution_count": 0,
      "outputs": []
    },
    {
      "cell_type": "code",
      "metadata": {
        "id": "hnvWkuY8LWXo",
        "colab_type": "code",
        "outputId": "83b74d9c-c468-4a09-ef9e-917288bd32d4",
        "colab": {
          "base_uri": "https://localhost:8080/",
          "height": 34
        }
      },
      "source": [
        "from google.colab import drive as drive_col\n",
        "drive_col.mount('drive')"
      ],
      "execution_count": 0,
      "outputs": [
        {
          "output_type": "stream",
          "text": [
            "Drive already mounted at drive; to attempt to forcibly remount, call drive.mount(\"drive\", force_remount=True).\n"
          ],
          "name": "stdout"
        }
      ]
    },
    {
      "cell_type": "code",
      "metadata": {
        "id": "xw01m2tkDoqP",
        "colab_type": "code",
        "colab": {}
      },
      "source": [
        "# Authenticate and create the PyDrive client.\n",
        "auth.authenticate_user()\n",
        "gauth = GoogleAuth()\n",
        "gauth.credentials = GoogleCredentials.get_application_default()\n",
        "drive = GoogleDrive(gauth)"
      ],
      "execution_count": 0,
      "outputs": []
    },
    {
      "cell_type": "code",
      "metadata": {
        "id": "T92ErpahDF1-",
        "colab_type": "code",
        "colab": {}
      },
      "source": [
        "link = 'https://drive.google.com/open?id=1Pz2U0BtfeHLivDR2K0U1kAXqMYH8ZU8F'\n",
        "fluff, id = link.split('=')\n",
        "downloaded = drive.CreateFile({'id':id}) \n",
        "downloaded.GetContentFile('clients.csv')  \n",
        "df_clients = pandas.read_csv('clients.csv', index_col='client_id')"
      ],
      "execution_count": 0,
      "outputs": []
    },
    {
      "cell_type": "code",
      "metadata": {
        "id": "QuI2Txx05Mk9",
        "colab_type": "code",
        "outputId": "091009ba-9390-498a-d3c6-d2edcc793b7c",
        "colab": {
          "base_uri": "https://localhost:8080/",
          "height": 431
        }
      },
      "source": [
        "df_clients"
      ],
      "execution_count": 0,
      "outputs": [
        {
          "output_type": "execute_result",
          "data": {
            "text/html": [
              "<div>\n",
              "<style scoped>\n",
              "    .dataframe tbody tr th:only-of-type {\n",
              "        vertical-align: middle;\n",
              "    }\n",
              "\n",
              "    .dataframe tbody tr th {\n",
              "        vertical-align: top;\n",
              "    }\n",
              "\n",
              "    .dataframe thead th {\n",
              "        text-align: right;\n",
              "    }\n",
              "</style>\n",
              "<table border=\"1\" class=\"dataframe\">\n",
              "  <thead>\n",
              "    <tr style=\"text-align: right;\">\n",
              "      <th></th>\n",
              "      <th>first_issue_date</th>\n",
              "      <th>first_redeem_date</th>\n",
              "      <th>age</th>\n",
              "      <th>gender</th>\n",
              "    </tr>\n",
              "    <tr>\n",
              "      <th>client_id</th>\n",
              "      <th></th>\n",
              "      <th></th>\n",
              "      <th></th>\n",
              "      <th></th>\n",
              "    </tr>\n",
              "  </thead>\n",
              "  <tbody>\n",
              "    <tr>\n",
              "      <th>000012768d</th>\n",
              "      <td>2017-08-05 15:40:48</td>\n",
              "      <td>2018-01-04 19:30:07</td>\n",
              "      <td>45</td>\n",
              "      <td>U</td>\n",
              "    </tr>\n",
              "    <tr>\n",
              "      <th>000036f903</th>\n",
              "      <td>2017-04-10 13:54:23</td>\n",
              "      <td>2017-04-23 12:37:56</td>\n",
              "      <td>72</td>\n",
              "      <td>F</td>\n",
              "    </tr>\n",
              "    <tr>\n",
              "      <th>000048b7a6</th>\n",
              "      <td>2018-12-15 13:33:11</td>\n",
              "      <td>NaN</td>\n",
              "      <td>68</td>\n",
              "      <td>F</td>\n",
              "    </tr>\n",
              "    <tr>\n",
              "      <th>000073194a</th>\n",
              "      <td>2017-05-23 12:56:14</td>\n",
              "      <td>2017-11-24 11:18:01</td>\n",
              "      <td>60</td>\n",
              "      <td>F</td>\n",
              "    </tr>\n",
              "    <tr>\n",
              "      <th>00007c7133</th>\n",
              "      <td>2017-05-22 16:17:08</td>\n",
              "      <td>2018-12-31 17:17:33</td>\n",
              "      <td>67</td>\n",
              "      <td>U</td>\n",
              "    </tr>\n",
              "    <tr>\n",
              "      <th>...</th>\n",
              "      <td>...</td>\n",
              "      <td>...</td>\n",
              "      <td>...</td>\n",
              "      <td>...</td>\n",
              "    </tr>\n",
              "    <tr>\n",
              "      <th>fffece623e</th>\n",
              "      <td>2018-05-13 15:09:30</td>\n",
              "      <td>2018-12-27 19:06:39</td>\n",
              "      <td>67</td>\n",
              "      <td>U</td>\n",
              "    </tr>\n",
              "    <tr>\n",
              "      <th>ffff3dfff8</th>\n",
              "      <td>2018-11-01 16:06:52</td>\n",
              "      <td>2018-12-07 17:33:47</td>\n",
              "      <td>56</td>\n",
              "      <td>F</td>\n",
              "    </tr>\n",
              "    <tr>\n",
              "      <th>ffffaab9da</th>\n",
              "      <td>2017-08-25 18:43:24</td>\n",
              "      <td>2017-12-08 17:53:19</td>\n",
              "      <td>23</td>\n",
              "      <td>F</td>\n",
              "    </tr>\n",
              "    <tr>\n",
              "      <th>ffffeb5619</th>\n",
              "      <td>2017-12-05 13:26:28</td>\n",
              "      <td>NaN</td>\n",
              "      <td>62</td>\n",
              "      <td>U</td>\n",
              "    </tr>\n",
              "    <tr>\n",
              "      <th>fffff6ce77</th>\n",
              "      <td>2017-08-03 20:25:12</td>\n",
              "      <td>2017-08-26 16:41:41</td>\n",
              "      <td>42</td>\n",
              "      <td>U</td>\n",
              "    </tr>\n",
              "  </tbody>\n",
              "</table>\n",
              "<p>400162 rows × 4 columns</p>\n",
              "</div>"
            ],
            "text/plain": [
              "               first_issue_date    first_redeem_date  age gender\n",
              "client_id                                                       \n",
              "000012768d  2017-08-05 15:40:48  2018-01-04 19:30:07   45      U\n",
              "000036f903  2017-04-10 13:54:23  2017-04-23 12:37:56   72      F\n",
              "000048b7a6  2018-12-15 13:33:11                  NaN   68      F\n",
              "000073194a  2017-05-23 12:56:14  2017-11-24 11:18:01   60      F\n",
              "00007c7133  2017-05-22 16:17:08  2018-12-31 17:17:33   67      U\n",
              "...                         ...                  ...  ...    ...\n",
              "fffece623e  2018-05-13 15:09:30  2018-12-27 19:06:39   67      U\n",
              "ffff3dfff8  2018-11-01 16:06:52  2018-12-07 17:33:47   56      F\n",
              "ffffaab9da  2017-08-25 18:43:24  2017-12-08 17:53:19   23      F\n",
              "ffffeb5619  2017-12-05 13:26:28                  NaN   62      U\n",
              "fffff6ce77  2017-08-03 20:25:12  2017-08-26 16:41:41   42      U\n",
              "\n",
              "[400162 rows x 4 columns]"
            ]
          },
          "metadata": {
            "tags": []
          },
          "execution_count": 10
        }
      ]
    },
    {
      "cell_type": "code",
      "metadata": {
        "colab_type": "code",
        "id": "vrWnNLEkFYV9",
        "colab": {}
      },
      "source": [
        "link = 'https://drive.google.com/open?id=1s1JEznUQKgQp_zJ4kMkupkYbltIEjOO-'\n",
        "fluff, id = link.split('=')\n",
        "downloaded = drive.CreateFile({'id':id}) \n",
        "downloaded.GetContentFile('uplift_train.csv')  \n",
        "df_train = pandas.read_csv('uplift_train.csv', index_col='client_id')"
      ],
      "execution_count": 0,
      "outputs": []
    },
    {
      "cell_type": "code",
      "metadata": {
        "colab_type": "code",
        "id": "YNcFW6GGFYmg",
        "colab": {}
      },
      "source": [
        "link = 'https://drive.google.com/open?id=1d79lyh5XIM6Z8RCgxadt2UJRPCmDuQTY'\n",
        "fluff, id = link.split('=')\n",
        "downloaded = drive.CreateFile({'id':id}) \n",
        "downloaded.GetContentFile('uplift_test.csv')  \n",
        "df_test = pandas.read_csv('uplift_test.csv', index_col='client_id')"
      ],
      "execution_count": 0,
      "outputs": []
    },
    {
      "cell_type": "code",
      "metadata": {
        "id": "A8Bwy6OCCRTJ",
        "colab_type": "code",
        "colab": {}
      },
      "source": [
        "def uplift_fit_predict(model, X_train, treatment_train, target_train, X_test):\n",
        "    \"\"\"\n",
        "    Реализация простого способа построения uplift-модели.\n",
        "    \n",
        "    Обучаем два бинарных классификатора, которые оценивают вероятность target для клиента:\n",
        "    1. с которым была произведена коммуникация (treatment=1)\n",
        "    2. с которым не было коммуникации (treatment=0)\n",
        "    \n",
        "    В качестве оценки uplift для нового клиента берется разница оценок вероятностей:\n",
        "    Predicted Uplift = P(target|treatment=1) - P(target|treatment=0)\n",
        "    \"\"\"\n",
        "    X_treatment, y_treatment = X_train[treatment_train == 1, :], target_train[treatment_train == 1]\n",
        "    X_control, y_control = X_train[treatment_train == 0, :], target_train[treatment_train == 0]\n",
        "    model_treatment = clone(model).fit(X_treatment, y_treatment)\n",
        "    model_control = clone(model).fit(X_control, y_control)\n",
        "    predict_treatment = model_treatment.predict_proba(X_test)[:, 1]\n",
        "    predict_control = model_control.predict_proba(X_test)[:, 1]\n",
        "    predict_uplift = predict_treatment - predict_control\n",
        "    return predict_uplift\n",
        "\n",
        "\n",
        "def uplift_score(prediction, treatment, target, rate=0.3):\n",
        "    \"\"\"\n",
        "    Подсчет Uplift Score\n",
        "    \"\"\"\n",
        "    order = np.argsort(-prediction)\n",
        "    treatment_n = int((treatment == 1).sum() * rate)\n",
        "    treatment_p = target[order][treatment[order] == 1][:treatment_n].mean()\n",
        "    control_n = int((treatment == 0).sum() * rate)\n",
        "    control_p = target[order][treatment[order] == 0][:control_n].mean()\n",
        "    score = treatment_p - control_p\n",
        "    return score"
      ],
      "execution_count": 0,
      "outputs": []
    },
    {
      "cell_type": "code",
      "metadata": {
        "id": "jeUOM3AVCYbT",
        "colab_type": "code",
        "colab": {}
      },
      "source": [
        "# Извлечение признаков\n",
        "\n",
        "df_clients['first_issue_unixtime'] = pandas.to_datetime(df_clients['first_issue_date']).astype(np.int64)/10**9\n",
        "df_clients['first_redeem_unixtime'] = pandas.to_datetime(df_clients['first_redeem_date']).astype(np.int64)/10**9\n",
        "df_features = pandas.DataFrame({\n",
        "    'gender_M': (df_clients['gender'] == 'M').astype(int),\n",
        "    'gender_F': (df_clients['gender'] == 'F').astype(int),\n",
        "    'gender_U': (df_clients['gender'] == 'U').astype(int),\n",
        "    'age': df_clients['age'],\n",
        "    'first_issue_time': df_clients['first_issue_unixtime'],\n",
        "    'first_redeem_time': df_clients['first_redeem_unixtime'],\n",
        "    'issue_redeem_delay': df_clients['first_redeem_unixtime'] - df_clients['first_issue_unixtime'],\n",
        "}).fillna(0)"
      ],
      "execution_count": 0,
      "outputs": []
    },
    {
      "cell_type": "code",
      "metadata": {
        "id": "_xxprNruCaSg",
        "colab_type": "code",
        "outputId": "8a9f641a-93ea-4cd0-98cc-92cb4d25f1a4",
        "colab": {
          "base_uri": "https://localhost:8080/",
          "height": 34
        }
      },
      "source": [
        "# Оценка качества на валидации\n",
        "\n",
        "indices_train = df_train.index\n",
        "indices_test = df_test.index\n",
        "indices_learn, indices_valid = train_test_split(df_train.index, test_size=0.3, random_state=123)\n",
        "\n",
        "valid_uplift = uplift_fit_predict(\n",
        "    model=GradientBoostingClassifier(),\n",
        "    X_train=df_features.loc[indices_learn, :].fillna(0).values,\n",
        "    treatment_train=df_train.loc[indices_learn, 'treatment_flg'].values,\n",
        "    target_train=df_train.loc[indices_learn, 'target'].values,\n",
        "    X_test=df_features.loc[indices_valid, :].fillna(0).values,\n",
        ")\n",
        "valid_score = uplift_score(\n",
        "    valid_uplift,\n",
        "    treatment=df_train.loc[indices_valid, 'treatment_flg'].values,\n",
        "    target=df_train.loc[indices_valid, 'target'].values,\n",
        ")\n",
        "print('Validation score:', valid_score)"
      ],
      "execution_count": 0,
      "outputs": [
        {
          "output_type": "stream",
          "text": [
            "Validation score: 0.050892146791947424\n"
          ],
          "name": "stdout"
        }
      ]
    },
    {
      "cell_type": "code",
      "metadata": {
        "id": "Ard5XfVXCcjk",
        "colab_type": "code",
        "colab": {}
      },
      "source": [
        "# Подготовка предсказаний для тестовых клиентов\n",
        "\n",
        "test_uplift = uplift_fit_predict(\n",
        "    model=GradientBoostingClassifier(),\n",
        "    X_train=df_features.loc[indices_train, :].fillna(0).values,\n",
        "    treatment_train=df_train.loc[indices_train, 'treatment_flg'].values,\n",
        "    target_train=df_train.loc[indices_train, 'target'].values,\n",
        "    X_test=df_features.loc[indices_test, :].fillna(0).values,\n",
        ")\n",
        "\n",
        "df_submission = pandas.DataFrame({'uplift': test_uplift}, index=df_test.index)\n",
        "df_submission.to_csv('submission_test.csv')"
      ],
      "execution_count": 0,
      "outputs": []
    },
    {
      "cell_type": "code",
      "metadata": {
        "id": "8_6w3hZAKDke",
        "colab_type": "code",
        "colab": {}
      },
      "source": [
        "!cp \"submission_test.csv\" \"drive/My Drive/\"\n",
        "#после выполнения файл будет в вашем Google диске"
      ],
      "execution_count": 0,
      "outputs": []
    },
    {
      "cell_type": "markdown",
      "metadata": {
        "id": "D6l1QKdbLkQX",
        "colab_type": "text"
      },
      "source": [
        "  - [Загрузи решение](https://retailhero.ai/c/uplift_modeling/team#submit-solution)\n",
        "  - [Заполни опросник](https://forms.gle/6gdKBZTjqRkc1ARu6)\n",
        "  \n"
      ]
    }
  ]
}